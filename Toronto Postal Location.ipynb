{
    "nbformat_minor": 1, 
    "cells": [
        {
            "execution_count": null, 
            "cell_type": "code", 
            "metadata": {
                "collapsed": true
            }, 
            "outputs": [], 
            "source": "import pandas as pd\nimport numpy as np\nfrom bs4 import BeautifulSoup\nimport requests # library to handle requests\n\nimport json # library to handle JSON files\n\n!conda install -c conda-forge geopy --yes # uncomment this line if you haven't completed the Foursquare API lab\nfrom geopy.geocoders import Nominatim # convert an address into latitude and longitude values\n\n\nfrom pandas.io.json import json_normalize # tranform JSON file into a pandas dataframe\n\n# Matplotlib and associated plotting modules\nimport matplotlib.cm as cm\nimport matplotlib.colors as colors\n\n# import k-means from clustering stage\nfrom sklearn.cluster import KMeans\n\n!conda install -c conda-forge folium=0.5.0 --yes # uncomment this line if you haven't completed the Foursquare API lab\nimport folium # map rendering library\n\nprint('Libraries imported.')"
        }, 
        {
            "execution_count": null, 
            "cell_type": "code", 
            "metadata": {}, 
            "outputs": [], 
            "source": "# Download and Explore Dataset\nhtml_data = requests.get(\"https://en.wikipedia.org/wiki/List_of_postal_codes_of_Canada:_M\")\nsoup = BeautifulSoup(html_data.content, 'lxml')"
        }, 
        {
            "execution_count": null, 
            "cell_type": "code", 
            "metadata": {}, 
            "outputs": [], 
            "source": "#Add headers to table\nimport pandas as pd\nheader_list = []\ntable_soup = soup.find('table', class_='wikitable sortable')\nfor header in table_soup.find_all('th'):\n    header_list.append(header.text.strip())\n\ntable_df = pd.DataFrame(columns=header_list)\ntable_df.head()"
        }, 
        {
            "execution_count": null, 
            "cell_type": "code", 
            "metadata": {}, 
            "outputs": [], 
            "source": "#Add postcodes\n#for row in table\nfor tr in table_soup.find_all('tr'):\n    tds = tr.find_all('td')\n    if not tds:\n        continue\n    pd, bo, ne = [td.text.strip() for td in tds[:3]]\n    #row append([pd, bo, ne])\n    table_df = table_df.append({header_list[0]:pd, header_list[1]:bo, header_list[2]:ne}, ignore_index=True)\n\n\ntable_df.head()"
        }, 
        {
            "execution_count": null, 
            "cell_type": "code", 
            "metadata": {}, 
            "outputs": [], 
            "source": "# Clean up data\n#1. Only process the cells that have an assigned borough. Ignore cells with a borough that is Not assigned\n# replace \"Not assigned\" to NaN\ntable_df['Borough'].replace(\"Not assigned\", np.nan, inplace = True)\n\n# Drop whole row with NaN in \"price\" column\ntable_df.dropna(subset=[\"Borough\"], axis=0, inplace=True)\ntable_df.head()"
        }, 
        {
            "execution_count": null, 
            "cell_type": "code", 
            "metadata": {}, 
            "outputs": [], 
            "source": "#2. More than one neighborhood can exist in one postal code area. These rows will be combined into one row with the neighborhoods separated with a comma\ntable_df=table_df.groupby(\"Postcode\").agg(lambda x:','.join(set(x)))\ntable_df.reset_index(inplace=True)\ntable_df.head()"
        }, 
        {
            "execution_count": null, 
            "cell_type": "code", 
            "metadata": {}, 
            "outputs": [], 
            "source": "#3. If a cell has a borough but a Not assigned neighborhood, then the neighborhood will be the same as the borough.\ntable_df.loc[table_df['Neighbourhood']==\"Not assigned\",'Neighbourhood']=table_df.loc[table_df['Neighbourhood']==\"Not assigned\",'Borough']\ntable_df.head()"
        }, 
        {
            "execution_count": null, 
            "cell_type": "code", 
            "metadata": {}, 
            "outputs": [], 
            "source": "#4. Use the .shape method to print the number of rows of your dataframe\ntable_df.shape"
        }, 
        {
            "execution_count": null, 
            "cell_type": "code", 
            "metadata": {}, 
            "outputs": [], 
            "source": "# Now that you have built a dataframe of the postal code of each neighborhood along with the borough name and neighborhood name, \n# in order to utilize the Foursquare location data, we need to get the latitude and the longitude coordinates of each neighborhood.\n\nimport pandas as pd\nfilename = \"https://cocl.us/Geospatial_data\"\nheaders = [\"Postcode\", \"Latitude\", \"Longitude\"]\n\ndf = pd.read_csv(filename)\ndf.rename(columns={'Postal Code':'Postcode'}, inplace=True)\n#df.set_index(\"Postcode\", inplace=True)\ndf.head()"
        }, 
        {
            "execution_count": null, 
            "cell_type": "code", 
            "metadata": {}, 
            "outputs": [], 
            "source": "#Add Latitude and Longitude\n\ntmp = pd.merge(table_df, df, on='Postcode', how='left')\ntmp.head()"
        }
    ], 
    "metadata": {
        "kernelspec": {
            "display_name": "Python 3.5", 
            "name": "python3", 
            "language": "python"
        }, 
        "language_info": {
            "mimetype": "text/x-python", 
            "nbconvert_exporter": "python", 
            "version": "3.5.5", 
            "name": "python", 
            "file_extension": ".py", 
            "pygments_lexer": "ipython3", 
            "codemirror_mode": {
                "version": 3, 
                "name": "ipython"
            }
        }
    }, 
    "nbformat": 4
}