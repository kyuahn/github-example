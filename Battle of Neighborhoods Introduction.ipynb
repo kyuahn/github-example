{
    "nbformat_minor": 1, 
    "cells": [
        {
            "source": "### Test\n<h1 align=center><font size = 5>New Korean Restaurant in New York City</font></h1>", 
            "cell_type": "markdown", 
            "metadata": {}
        }, 
        {
            "source": "## Introduction\n\nJJ International is a South Korean conglomerate holding company headquartered in Seoul. It comprises numerous businesses in various industries of food and food service, pharmaceutics and biotechnology, entertainment and media. The company wants to explore an possibility to open an authentic Korean Restaurant in Manhattan, NY.\n", 
            "cell_type": "markdown", 
            "metadata": {}
        }, 
        {
            "source": "## Data\n\nFoursquare will be used to gather the locations of different restaurant. It provides different types of restaurants in a given area and enables us to analyze the numbers of Asian restaurants, including Korean, in Manhattan, NY.", 
            "cell_type": "markdown", 
            "metadata": {}
        }, 
        {
            "source": "## Methodology\n\nIn this report, I will explore the restaurants in the New York by segmenting data and conducting descriptive analysis using Panda. Web scraping will be used to download and generate data.", 
            "cell_type": "markdown", 
            "metadata": {}
        }, 
        {
            "execution_count": null, 
            "cell_type": "code", 
            "metadata": {}, 
            "outputs": [], 
            "source": ""
        }
    ], 
    "metadata": {
        "kernelspec": {
            "display_name": "Python 3.5", 
            "name": "python3", 
            "language": "python"
        }, 
        "language_info": {
            "mimetype": "text/x-python", 
            "nbconvert_exporter": "python", 
            "version": "3.5.5", 
            "name": "python", 
            "file_extension": ".py", 
            "pygments_lexer": "ipython3", 
            "codemirror_mode": {
                "version": 3, 
                "name": "ipython"
            }
        }
    }, 
    "nbformat": 4
}