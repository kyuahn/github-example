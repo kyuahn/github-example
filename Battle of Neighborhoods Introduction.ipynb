{
    "nbformat_minor": 1, 
    "cells": [
        {
            "source": "#                             New Korean Restaurant in New York City", 
            "cell_type": "markdown", 
            "metadata": {}
        }, 
        {
            "source": "## Introduction\n\nNew York City has something for every taste and attracts a huge amount of tourists to visit each year. From incredible art galleries and museums to some of the world\u2019s best restaurants, New York\u2019s many offerings are well known to most visitors. \n\nJJ International is a South Korean conglomerate holding company headquartered in Seoul. It comprises numerous businesses in various industries of food and food service, pharmaceutics and biotechnology, entertainment and media. The company wants to explore an possibility to open an authentic Korean Restaurant in Manhattan, NY.\n", 
            "cell_type": "markdown", 
            "metadata": {}
        }, 
        {
            "source": "## Data\n\nFoursquare API will be used to gather the locations of different restaurant. It provides different types of restaurants in a given area and enables us to analyze the numbers of Asian restaurants, including Korean, in Manhattan, NY.\n\n1. list of neighborhoods in New York City\n2. location data from geocoding api\n3. nearby information from the foursquare api", 
            "cell_type": "markdown", 
            "metadata": {}
        }, 
        {
            "source": "## Methodology\n\nIn this report, I will explore the restaurants in Manhattan by segmenting data and conducting descriptive analysis using Panda. Web scraping will be used to download and generate data.\n\nMy search will look for areas where there are high number of restaurants while low number of Asian restaurants. i.e. Japanese, Chinese and Korean. The high number of restaurants in the area would suggest popularity among diners. In the mean time, the low number of Asian restaurant in the area is favorable due to lower competition from similar type of restaurants.", 
            "cell_type": "markdown", 
            "metadata": {}
        }, 
        {
            "execution_count": null, 
            "cell_type": "code", 
            "metadata": {}, 
            "outputs": [], 
            "source": ""
        }
    ], 
    "metadata": {
        "kernelspec": {
            "display_name": "Python 3.5", 
            "name": "python3", 
            "language": "python"
        }, 
        "language_info": {
            "mimetype": "text/x-python", 
            "nbconvert_exporter": "python", 
            "version": "3.5.5", 
            "name": "python", 
            "file_extension": ".py", 
            "pygments_lexer": "ipython3", 
            "codemirror_mode": {
                "version": 3, 
                "name": "ipython"
            }
        }
    }, 
    "nbformat": 4
}